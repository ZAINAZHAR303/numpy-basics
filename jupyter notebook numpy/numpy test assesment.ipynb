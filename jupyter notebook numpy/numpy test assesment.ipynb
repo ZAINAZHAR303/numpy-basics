{
 "cells": [
  {
   "cell_type": "code",
   "execution_count": 2,
   "id": "8e50a16e-8fdb-4d44-8179-2b9c8ced7ecd",
   "metadata": {},
   "outputs": [
    {
     "name": "stdout",
     "output_type": "stream",
     "text": [
      "[10 11 12 13 14 15 16 17 18 19 20]\n",
      "[10 11 12]\n"
     ]
    },
    {
     "data": {
      "text/plain": [
       "array([ 10,  11,  12,  13,  14,  15,  16,  17,  18,  19, 100])"
      ]
     },
     "execution_count": 2,
     "metadata": {},
     "output_type": "execute_result"
    }
   ],
   "source": [
    "import numpy as np\n",
    "arr = np.arange(10,21)\n",
    "print(arr)\n",
    "print(arr[0:3])\n",
    "# print(arr[length]-1)\n",
    "arr[10] = 100;\n",
    "arr"
   ]
  },
  {
   "cell_type": "code",
   "execution_count": null,
   "id": "c13a95ca",
   "metadata": {},
   "outputs": [],
   "source": []
  },
  {
   "cell_type": "code",
   "execution_count": 4,
   "id": "f207c526-308f-4a1c-b15b-09c3f9b2f2c7",
   "metadata": {},
   "outputs": [
    {
     "name": "stdout",
     "output_type": "stream",
     "text": [
      "[ 1  2  3  4  5  6  7  8  9 10]\n",
      "[ 2  4  6  8 10]\n"
     ]
    }
   ],
   "source": [
    "a = np.arange(1,11)\n",
    "print(a)\n",
    "sli = a[1:11:2]\n",
    "print(sli)"
   ]
  },
  {
   "cell_type": "code",
   "execution_count": 5,
   "id": "b88e1fb4-d3e0-45a3-b07f-f8a5277fd0ce",
   "metadata": {},
   "outputs": [
    {
     "name": "stdout",
     "output_type": "stream",
     "text": [
      "[100   4   6   8  10]\n",
      "[  1 100   3   4   5   6   7   8   9  10]\n"
     ]
    }
   ],
   "source": [
    "sli[0] = 100\n",
    "print(sli)\n",
    "print(a)"
   ]
  },
  {
   "cell_type": "markdown",
   "id": "af01af5b-c8af-4c64-823d-1d9aa54f8d8f",
   "metadata": {},
   "source": [
    "### Task 3"
   ]
  },
  {
   "cell_type": "code",
   "execution_count": 2,
   "id": "0520736a-07f1-4cb0-8496-83fc75c9124b",
   "metadata": {},
   "outputs": [
    {
     "data": {
      "text/plain": [
       "array([[6, 5, 5],\n",
       "       [1, 5, 1],\n",
       "       [3, 4, 2]])"
      ]
     },
     "execution_count": 2,
     "metadata": {},
     "output_type": "execute_result"
    }
   ],
   "source": [
    "three = np.random.randint(1,9,size= (3,3))\n",
    "three"
   ]
  },
  {
   "cell_type": "code",
   "execution_count": 3,
   "id": "dee5b7d7-4fb9-4c87-a072-a26f7bf7c7b4",
   "metadata": {},
   "outputs": [
    {
     "data": {
      "text/plain": [
       "1"
      ]
     },
     "execution_count": 3,
     "metadata": {},
     "output_type": "execute_result"
    }
   ],
   "source": [
    "three[1,2]"
   ]
  },
  {
   "cell_type": "code",
   "execution_count": 4,
   "id": "66eadbd7-cb95-492e-ac6a-f11024edb1ef",
   "metadata": {},
   "outputs": [
    {
     "data": {
      "text/plain": [
       "array([5, 5, 4])"
      ]
     },
     "execution_count": 4,
     "metadata": {},
     "output_type": "execute_result"
    }
   ],
   "source": [
    "three[:,1]"
   ]
  },
  {
   "cell_type": "markdown",
   "id": "83d955b2-4e38-4b20-bac1-4dc3e158be7f",
   "metadata": {},
   "source": [
    "### Task 4"
   ]
  },
  {
   "cell_type": "code",
   "execution_count": 7,
   "id": "fc1dce19-d13b-4ab4-a6c3-a863cf59627a",
   "metadata": {},
   "outputs": [
    {
     "data": {
      "text/plain": [
       "array([[23, 44],\n",
       "       [45, 11],\n",
       "       [18, 14],\n",
       "       [35, 13]])"
      ]
     },
     "execution_count": 7,
     "metadata": {},
     "output_type": "execute_result"
    }
   ],
   "source": [
    "random = np.random.randint(0,50, size=(4,2))\n",
    "random"
   ]
  },
  {
   "cell_type": "code",
   "execution_count": 8,
   "id": "72b26180-aa04-41b5-85f8-db16bbb90038",
   "metadata": {},
   "outputs": [
    {
     "name": "stdout",
     "output_type": "stream",
     "text": [
      "shape (4, 2)\n",
      "size 8\n",
      "dimentions 2\n"
     ]
    }
   ],
   "source": [
    "print(\"shape\", random.shape)\n",
    "print(\"size\", random.size)\n",
    "print(\"dimentions\" , random.ndim)"
   ]
  },
  {
   "cell_type": "markdown",
   "id": "082eeed1-5f19-43db-ba2a-3efca81189d5",
   "metadata": {},
   "source": [
    "### Task 5"
   ]
  },
  {
   "cell_type": "code",
   "execution_count": 9,
   "id": "948f6971-d0e0-4e1c-aec3-40f0db162857",
   "metadata": {},
   "outputs": [
    {
     "data": {
      "text/plain": [
       "array([0., 0., 0., 0., 0.])"
      ]
     },
     "execution_count": 9,
     "metadata": {},
     "output_type": "execute_result"
    }
   ],
   "source": [
    "zero = np.zeros(5)\n",
    "zero\n"
   ]
  },
  {
   "cell_type": "code",
   "execution_count": 11,
   "id": "ad45df29-dedf-4aaf-b02a-c24815b46da8",
   "metadata": {},
   "outputs": [
    {
     "data": {
      "text/plain": [
       "array([[1., 0., 0.],\n",
       "       [0., 1., 0.],\n",
       "       [0., 0., 1.]])"
      ]
     },
     "execution_count": 11,
     "metadata": {},
     "output_type": "execute_result"
    }
   ],
   "source": [
    "identity = np.eye(3,3)\n",
    "identity"
   ]
  },
  {
   "cell_type": "code",
   "execution_count": 3,
   "id": "e269a116-eb3a-4b07-a0e8-d90ec18791ca",
   "metadata": {},
   "outputs": [
    {
     "data": {
      "text/plain": [
       "array([  0.        ,  11.11111111,  22.22222222,  33.33333333,\n",
       "        44.44444444,  55.55555556,  66.66666667,  77.77777778,\n",
       "        88.88888889, 100.        ])"
      ]
     },
     "execution_count": 3,
     "metadata": {},
     "output_type": "execute_result"
    }
   ],
   "source": [
    "evenly = np.linspace(0,100,10)\n",
    "evenly"
   ]
  },
  {
   "cell_type": "code",
   "execution_count": null,
   "id": "f869a443",
   "metadata": {},
   "outputs": [],
   "source": []
  },
  {
   "cell_type": "markdown",
   "id": "d3e86078",
   "metadata": {},
   "source": [
    "#### Task 6"
   ]
  },
  {
   "cell_type": "code",
   "execution_count": 4,
   "id": "8b18b5ac",
   "metadata": {},
   "outputs": [
    {
     "name": "stdout",
     "output_type": "stream",
     "text": [
      "[1 2 5 7 8]\n"
     ]
    }
   ],
   "source": [
    "arr = np.array([8,2,5,1,7])\n",
    "arr.sort(kind=\"quicksort\")\n",
    "print(arr)"
   ]
  },
  {
   "cell_type": "code",
   "execution_count": 6,
   "id": "a3e00d61",
   "metadata": {},
   "outputs": [
    {
     "ename": "TypeError",
     "evalue": "only integer scalar arrays can be converted to a scalar index",
     "output_type": "error",
     "traceback": [
      "\u001b[31m---------------------------------------------------------------------------\u001b[39m",
      "\u001b[31mTypeError\u001b[39m                                 Traceback (most recent call last)",
      "\u001b[36mCell\u001b[39m\u001b[36m \u001b[39m\u001b[32mIn[6]\u001b[39m\u001b[32m, line 3\u001b[39m\n\u001b[32m      1\u001b[39m arr1 = np.array([\u001b[32m1\u001b[39m,\u001b[32m2\u001b[39m,\u001b[32m3\u001b[39m])\n\u001b[32m      2\u001b[39m arr2 = np.array([\u001b[32m4\u001b[39m,\u001b[32m5\u001b[39m,\u001b[32m6\u001b[39m])\n\u001b[32m----> \u001b[39m\u001b[32m3\u001b[39m result = \u001b[43mnp\u001b[49m\u001b[43m.\u001b[49m\u001b[43mconcatenate\u001b[49m\u001b[43m(\u001b[49m\u001b[43marr1\u001b[49m\u001b[43m,\u001b[49m\u001b[43marr2\u001b[49m\u001b[43m)\u001b[49m\n",
      "\u001b[31mTypeError\u001b[39m: only integer scalar arrays can be converted to a scalar index"
     ]
    }
   ],
   "source": [
    "arr1 = np.array([1,2,3])\n",
    "arr2 = np.array([4,5,6])\n",
    "result = np.concatenate(arr1,arr2)"
   ]
  },
  {
   "cell_type": "code",
   "execution_count": null,
   "id": "82f80b3f",
   "metadata": {},
   "outputs": [],
   "source": []
  },
  {
   "cell_type": "markdown",
   "id": "8e7253af",
   "metadata": {},
   "source": [
    "### Task 7"
   ]
  },
  {
   "cell_type": "code",
   "execution_count": 16,
   "id": "807621a1",
   "metadata": {},
   "outputs": [
    {
     "name": "stdout",
     "output_type": "stream",
     "text": [
      "6\n",
      "[[1 2 3]\n",
      " [4 5 6]]\n",
      "[1 2 3 4 5 6]\n"
     ]
    }
   ],
   "source": [
    "array1d = np.array([1,2,3,4,5,6])\n",
    "print(array1d.size)\n",
    "arra2 = array1d.reshape((2,3))\n",
    "print(arra2)\n",
    "print(array1d)"
   ]
  },
  {
   "cell_type": "code",
   "execution_count": null,
   "id": "867462b4",
   "metadata": {},
   "outputs": [],
   "source": []
  },
  {
   "cell_type": "code",
   "execution_count": null,
   "id": "9575c393",
   "metadata": {},
   "outputs": [],
   "source": []
  },
  {
   "cell_type": "code",
   "execution_count": null,
   "id": "833b218e",
   "metadata": {},
   "outputs": [],
   "source": []
  },
  {
   "cell_type": "code",
   "execution_count": null,
   "id": "11a51a1d",
   "metadata": {},
   "outputs": [],
   "source": []
  },
  {
   "cell_type": "code",
   "execution_count": null,
   "id": "aa044c3d",
   "metadata": {},
   "outputs": [],
   "source": []
  },
  {
   "cell_type": "code",
   "execution_count": null,
   "id": "4b79cf12",
   "metadata": {},
   "outputs": [],
   "source": []
  },
  {
   "cell_type": "code",
   "execution_count": null,
   "id": "a3014742",
   "metadata": {},
   "outputs": [],
   "source": []
  },
  {
   "cell_type": "code",
   "execution_count": null,
   "id": "a1423f6c",
   "metadata": {},
   "outputs": [],
   "source": []
  },
  {
   "cell_type": "code",
   "execution_count": null,
   "id": "bf187324",
   "metadata": {},
   "outputs": [],
   "source": []
  },
  {
   "cell_type": "code",
   "execution_count": null,
   "id": "9b1a1f42",
   "metadata": {},
   "outputs": [],
   "source": []
  },
  {
   "cell_type": "code",
   "execution_count": null,
   "id": "94429d84-7335-4e17-a38e-dc8c361ad932",
   "metadata": {},
   "outputs": [],
   "source": []
  },
  {
   "cell_type": "code",
   "execution_count": null,
   "id": "0fc05a58-1388-4e3b-99d6-9094bd897e5e",
   "metadata": {},
   "outputs": [],
   "source": []
  }
 ],
 "metadata": {
  "kernelspec": {
   "display_name": "Python 3",
   "language": "python",
   "name": "python3"
  },
  "language_info": {
   "codemirror_mode": {
    "name": "ipython",
    "version": 3
   },
   "file_extension": ".py",
   "mimetype": "text/x-python",
   "name": "python",
   "nbconvert_exporter": "python",
   "pygments_lexer": "ipython3",
   "version": "3.11.6"
  }
 },
 "nbformat": 4,
 "nbformat_minor": 5
}
