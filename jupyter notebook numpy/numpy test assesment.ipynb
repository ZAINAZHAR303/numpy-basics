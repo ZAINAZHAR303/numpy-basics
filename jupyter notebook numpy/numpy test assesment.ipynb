{
 "cells": [
  {
   "cell_type": "code",
   "execution_count": 2,
   "id": "8e50a16e-8fdb-4d44-8179-2b9c8ced7ecd",
   "metadata": {},
   "outputs": [
    {
     "name": "stdout",
     "output_type": "stream",
     "text": [
      "[10 11 12 13 14 15 16 17 18 19 20]\n",
      "[10 11 12]\n"
     ]
    },
    {
     "data": {
      "text/plain": [
       "array([ 10,  11,  12,  13,  14,  15,  16,  17,  18,  19, 100])"
      ]
     },
     "execution_count": 2,
     "metadata": {},
     "output_type": "execute_result"
    }
   ],
   "source": [
    "import numpy as np\n",
    "arr = np.arange(10,21)\n",
    "print(arr)\n",
    "print(arr[0:3])\n",
    "# print(arr[length]-1)\n",
    "arr[10] = 100;\n",
    "arr"
   ]
  },
  {
   "cell_type": "code",
   "execution_count": null,
   "id": "c13a95ca",
   "metadata": {},
   "outputs": [],
   "source": []
  },
  {
   "cell_type": "code",
   "execution_count": 3,
   "id": "f207c526-308f-4a1c-b15b-09c3f9b2f2c7",
   "metadata": {},
   "outputs": [
    {
     "name": "stdout",
     "output_type": "stream",
     "text": [
      "[ 1  2  3  4  5  6  7  8  9 10]\n",
      "[ 2  4  6  8 10]\n"
     ]
    }
   ],
   "source": [
    "a = np.arange(1,11)\n",
    "print(a)\n",
    "sli = a[1:11:2]\n",
    "print(sli)"
   ]
  },
  {
   "cell_type": "code",
   "execution_count": 4,
   "id": "b88e1fb4-d3e0-45a3-b07f-f8a5277fd0ce",
   "metadata": {},
   "outputs": [
    {
     "name": "stdout",
     "output_type": "stream",
     "text": [
      "[100   4   6   8  10]\n",
      "[  1 100   3   4   5   6   7   8   9  10]\n"
     ]
    }
   ],
   "source": [
    "sli[0] = 100\n",
    "print(sli)\n",
    "print(a)"
   ]
  },
  {
   "cell_type": "markdown",
   "id": "af01af5b-c8af-4c64-823d-1d9aa54f8d8f",
   "metadata": {},
   "source": [
    "### Task 3"
   ]
  },
  {
   "cell_type": "code",
   "execution_count": 5,
   "id": "0520736a-07f1-4cb0-8496-83fc75c9124b",
   "metadata": {},
   "outputs": [
    {
     "data": {
      "text/plain": [
       "array([[1, 8, 3],\n",
       "       [3, 1, 3],\n",
       "       [5, 3, 3]])"
      ]
     },
     "execution_count": 5,
     "metadata": {},
     "output_type": "execute_result"
    }
   ],
   "source": [
    "three = np.random.randint(1,9,size= (3,3))\n",
    "three"
   ]
  },
  {
   "cell_type": "code",
   "execution_count": 6,
   "id": "dee5b7d7-4fb9-4c87-a072-a26f7bf7c7b4",
   "metadata": {},
   "outputs": [
    {
     "data": {
      "text/plain": [
       "3"
      ]
     },
     "execution_count": 6,
     "metadata": {},
     "output_type": "execute_result"
    }
   ],
   "source": [
    "three[1,2]"
   ]
  },
  {
   "cell_type": "code",
   "execution_count": 7,
   "id": "66eadbd7-cb95-492e-ac6a-f11024edb1ef",
   "metadata": {},
   "outputs": [
    {
     "data": {
      "text/plain": [
       "array([8, 1, 3])"
      ]
     },
     "execution_count": 7,
     "metadata": {},
     "output_type": "execute_result"
    }
   ],
   "source": [
    "three[:,1]"
   ]
  },
  {
   "cell_type": "markdown",
   "id": "83d955b2-4e38-4b20-bac1-4dc3e158be7f",
   "metadata": {},
   "source": [
    "### Task 4"
   ]
  },
  {
   "cell_type": "code",
   "execution_count": 8,
   "id": "fc1dce19-d13b-4ab4-a6c3-a863cf59627a",
   "metadata": {},
   "outputs": [
    {
     "data": {
      "text/plain": [
       "array([[32, 19],\n",
       "       [27, 32],\n",
       "       [45, 11],\n",
       "       [40, 39]])"
      ]
     },
     "execution_count": 8,
     "metadata": {},
     "output_type": "execute_result"
    }
   ],
   "source": [
    "random = np.random.randint(0,50, size=(4,2))\n",
    "random"
   ]
  },
  {
   "cell_type": "code",
   "execution_count": 9,
   "id": "72b26180-aa04-41b5-85f8-db16bbb90038",
   "metadata": {},
   "outputs": [
    {
     "name": "stdout",
     "output_type": "stream",
     "text": [
      "shape (4, 2)\n",
      "size 8\n",
      "dimentions 2\n"
     ]
    }
   ],
   "source": [
    "print(\"shape\", random.shape)\n",
    "print(\"size\", random.size)\n",
    "print(\"dimentions\" , random.ndim)"
   ]
  },
  {
   "cell_type": "markdown",
   "id": "082eeed1-5f19-43db-ba2a-3efca81189d5",
   "metadata": {},
   "source": [
    "### Task 5"
   ]
  },
  {
   "cell_type": "code",
   "execution_count": 10,
   "id": "948f6971-d0e0-4e1c-aec3-40f0db162857",
   "metadata": {},
   "outputs": [
    {
     "data": {
      "text/plain": [
       "array([0., 0., 0., 0., 0.])"
      ]
     },
     "execution_count": 10,
     "metadata": {},
     "output_type": "execute_result"
    }
   ],
   "source": [
    "zero = np.zeros(5)\n",
    "zero\n"
   ]
  },
  {
   "cell_type": "code",
   "execution_count": 11,
   "id": "ad45df29-dedf-4aaf-b02a-c24815b46da8",
   "metadata": {},
   "outputs": [
    {
     "data": {
      "text/plain": [
       "array([[1., 0., 0.],\n",
       "       [0., 1., 0.],\n",
       "       [0., 0., 1.]])"
      ]
     },
     "execution_count": 11,
     "metadata": {},
     "output_type": "execute_result"
    }
   ],
   "source": [
    "identity = np.eye(3,3)\n",
    "identity"
   ]
  },
  {
   "cell_type": "code",
   "execution_count": 12,
   "id": "e269a116-eb3a-4b07-a0e8-d90ec18791ca",
   "metadata": {},
   "outputs": [
    {
     "data": {
      "text/plain": [
       "array([  0.        ,  11.11111111,  22.22222222,  33.33333333,\n",
       "        44.44444444,  55.55555556,  66.66666667,  77.77777778,\n",
       "        88.88888889, 100.        ])"
      ]
     },
     "execution_count": 12,
     "metadata": {},
     "output_type": "execute_result"
    }
   ],
   "source": [
    "evenly = np.linspace(0,100,10)\n",
    "evenly"
   ]
  },
  {
   "cell_type": "code",
   "execution_count": null,
   "id": "f869a443",
   "metadata": {},
   "outputs": [],
   "source": []
  },
  {
   "cell_type": "markdown",
   "id": "d3e86078",
   "metadata": {},
   "source": [
    "#### Task 6"
   ]
  },
  {
   "cell_type": "code",
   "execution_count": 13,
   "id": "8b18b5ac",
   "metadata": {},
   "outputs": [
    {
     "name": "stdout",
     "output_type": "stream",
     "text": [
      "[1 2 5 7 8]\n"
     ]
    }
   ],
   "source": [
    "arr = np.array([8,2,5,1,7])\n",
    "arr.sort(kind=\"quicksort\")\n",
    "print(arr)"
   ]
  },
  {
   "cell_type": "code",
   "execution_count": 14,
   "id": "a3e00d61",
   "metadata": {},
   "outputs": [
    {
     "data": {
      "text/plain": [
       "array([1, 2, 3, 4, 5, 6])"
      ]
     },
     "execution_count": 14,
     "metadata": {},
     "output_type": "execute_result"
    }
   ],
   "source": [
    "arr1 = np.array([1,2,3])\n",
    "arr2 = np.array([4,5,6])\n",
    "result = np.concatenate((arr1,arr2))\n",
    "result"
   ]
  },
  {
   "cell_type": "code",
   "execution_count": null,
   "id": "25b07c8f",
   "metadata": {},
   "outputs": [],
   "source": []
  },
  {
   "cell_type": "markdown",
   "id": "3e8a0505",
   "metadata": {},
   "source": [
    "### Task 7"
   ]
  },
  {
   "cell_type": "code",
   "execution_count": 15,
   "id": "f9693875",
   "metadata": {},
   "outputs": [
    {
     "data": {
      "text/plain": [
       "array([1, 2, 3, 4, 5, 6])"
      ]
     },
     "execution_count": 15,
     "metadata": {},
     "output_type": "execute_result"
    }
   ],
   "source": [
    "oned = np.array([1,2,3,4,5,6])\n",
    "two=oned.reshape((2,3))\n",
    "oned"
   ]
  },
  {
   "cell_type": "code",
   "execution_count": 16,
   "id": "feef1a43",
   "metadata": {},
   "outputs": [
    {
     "data": {
      "text/plain": [
       "array([[1],\n",
       "       [2],\n",
       "       [3],\n",
       "       [4],\n",
       "       [5],\n",
       "       [6]])"
      ]
     },
     "execution_count": 16,
     "metadata": {},
     "output_type": "execute_result"
    }
   ],
   "source": [
    "column_vector = oned[:,np.newaxis]\n",
    "column_vector"
   ]
  },
  {
   "cell_type": "code",
   "execution_count": 17,
   "id": "5780c92f",
   "metadata": {},
   "outputs": [
    {
     "data": {
      "text/plain": [
       "array([[[1, 2, 3, 4, 5, 6]]])"
      ]
     },
     "execution_count": 17,
     "metadata": {},
     "output_type": "execute_result"
    }
   ],
   "source": [
    "row_vector = np.expand_dims(oned, axis=0)\n",
    "next_expand = np.expand_dims(row_vector,axis=1)\n",
    "next_expand"
   ]
  },
  {
   "cell_type": "markdown",
   "id": "34cb8986",
   "metadata": {},
   "source": [
    "###  expand dimensions practice"
   ]
  },
  {
   "cell_type": "code",
   "execution_count": 18,
   "id": "cb61d9c7",
   "metadata": {},
   "outputs": [
    {
     "name": "stdout",
     "output_type": "stream",
     "text": [
      "[[[13  2  7]\n",
      "  [ 9  5  7]]\n",
      "\n",
      " [[17 17 14]\n",
      "  [11 18  2]]]\n",
      "3\n"
     ]
    },
    {
     "ename": "AttributeError",
     "evalue": "'numpy.ndarray' object has no attribute 'shap'",
     "output_type": "error",
     "traceback": [
      "\u001b[31m---------------------------------------------------------------------------\u001b[39m",
      "\u001b[31mAttributeError\u001b[39m                            Traceback (most recent call last)",
      "\u001b[36mCell\u001b[39m\u001b[36m \u001b[39m\u001b[32mIn[18]\u001b[39m\u001b[32m, line 4\u001b[39m\n\u001b[32m      2\u001b[39m \u001b[38;5;28mprint\u001b[39m(array)\n\u001b[32m      3\u001b[39m \u001b[38;5;28mprint\u001b[39m(array.ndim)\n\u001b[32m----> \u001b[39m\u001b[32m4\u001b[39m \u001b[38;5;28mprint\u001b[39m(\u001b[43marray\u001b[49m\u001b[43m.\u001b[49m\u001b[43mshap\u001b[49m)\n",
      "\u001b[31mAttributeError\u001b[39m: 'numpy.ndarray' object has no attribute 'shap'"
     ]
    }
   ],
   "source": [
    "\n",
    "\n",
    "array = np.random.randint(1,20,size=(2,2,3))\n",
    "print(array)\n",
    "print(array.ndim)\n",
    "print(array.shap)"
   ]
  },
  {
   "cell_type": "code",
   "execution_count": 45,
   "id": "35acfb99",
   "metadata": {},
   "outputs": [
    {
     "data": {
      "text/plain": [
       "array([[[[12,  2, 14],\n",
       "         [ 3,  9, 13]],\n",
       "\n",
       "        [[14,  2,  3],\n",
       "         [ 8,  7, 16]]]])"
      ]
     },
     "execution_count": 45,
     "metadata": {},
     "output_type": "execute_result"
    }
   ],
   "source": [
    "### add dimension using new axis\n",
    "new_one = array[np.newaxis,:]\n",
    "new_one"
   ]
  },
  {
   "cell_type": "code",
   "execution_count": 48,
   "id": "d8acb9b0",
   "metadata": {},
   "outputs": [
    {
     "data": {
      "text/plain": [
       "array([[[[12,  2, 14],\n",
       "         [ 3,  9, 13]]],\n",
       "\n",
       "\n",
       "       [[[14,  2,  3],\n",
       "         [ 8,  7, 16]]]])"
      ]
     },
     "execution_count": 48,
     "metadata": {},
     "output_type": "execute_result"
    }
   ],
   "source": [
    "## new dimension usig expand_dim\n",
    "expnadone = np.expand_dims(array,axis=1)\n",
    "expnadone"
   ]
  },
  {
   "cell_type": "code",
   "execution_count": null,
   "id": "5e53dff1",
   "metadata": {},
   "outputs": [],
   "source": []
  },
  {
   "cell_type": "code",
   "execution_count": null,
   "id": "7682c27a",
   "metadata": {},
   "outputs": [],
   "source": []
  },
  {
   "cell_type": "code",
   "execution_count": null,
   "id": "82f80b3f",
   "metadata": {},
   "outputs": [],
   "source": []
  },
  {
   "cell_type": "markdown",
   "id": "8e7253af",
   "metadata": {},
   "source": [
    "### Task 7"
   ]
  },
  {
   "cell_type": "code",
   "execution_count": null,
   "id": "807621a1",
   "metadata": {},
   "outputs": [
    {
     "name": "stdout",
     "output_type": "stream",
     "text": [
      "6\n",
      "[[1 2 3]\n",
      " [4 5 6]]\n",
      "[1 2 3 4 5 6]\n"
     ]
    }
   ],
   "source": [
    "array1d = np.array([1,2,3,4,5,6])\n",
    "print(array1d.size)\n",
    "arra2 = array1d.reshape((2,3))\n",
    "print(arra2)\n",
    "print(array1d)"
   ]
  },
  {
   "cell_type": "code",
   "execution_count": null,
   "id": "867462b4",
   "metadata": {},
   "outputs": [],
   "source": []
  },
  {
   "cell_type": "code",
   "execution_count": 22,
   "id": "9575c393",
   "metadata": {},
   "outputs": [
    {
     "data": {
      "text/plain": [
       "array([[[11,  2, 11],\n",
       "        [ 4, 13, 16]],\n",
       "\n",
       "       [[ 8, 19,  7],\n",
       "        [19,  8,  4]]])"
      ]
     },
     "execution_count": 22,
     "metadata": {},
     "output_type": "execute_result"
    }
   ],
   "source": [
    "arr3d = np.random.randint(1,20,size=((2,2,3)))\n",
    "arr3d"
   ]
  },
  {
   "cell_type": "code",
   "execution_count": 24,
   "id": "833b218e",
   "metadata": {},
   "outputs": [
    {
     "name": "stdout",
     "output_type": "stream",
     "text": [
      "[[ 4 13 16]\n",
      " [19  8  4]]\n"
     ]
    }
   ],
   "source": [
    "print(arr3d[:,1,:])"
   ]
  },
  {
   "cell_type": "code",
   "execution_count": null,
   "id": "11a51a1d",
   "metadata": {},
   "outputs": [],
   "source": []
  },
  {
   "cell_type": "code",
   "execution_count": null,
   "id": "334143ec",
   "metadata": {},
   "outputs": [],
   "source": []
  },
  {
   "cell_type": "code",
   "execution_count": null,
   "id": "aa044c3d",
   "metadata": {},
   "outputs": [],
   "source": []
  },
  {
   "cell_type": "code",
   "execution_count": null,
   "id": "4b79cf12",
   "metadata": {},
   "outputs": [],
   "source": []
  },
  {
   "cell_type": "code",
   "execution_count": null,
   "id": "a3014742",
   "metadata": {},
   "outputs": [],
   "source": []
  },
  {
   "cell_type": "code",
   "execution_count": null,
   "id": "a1423f6c",
   "metadata": {},
   "outputs": [],
   "source": []
  },
  {
   "cell_type": "code",
   "execution_count": null,
   "id": "bf187324",
   "metadata": {},
   "outputs": [],
   "source": []
  },
  {
   "cell_type": "code",
   "execution_count": null,
   "id": "9b1a1f42",
   "metadata": {},
   "outputs": [],
   "source": []
  },
  {
   "cell_type": "code",
   "execution_count": null,
   "id": "94429d84-7335-4e17-a38e-dc8c361ad932",
   "metadata": {},
   "outputs": [],
   "source": []
  },
  {
   "cell_type": "code",
   "execution_count": null,
   "id": "0fc05a58-1388-4e3b-99d6-9094bd897e5e",
   "metadata": {},
   "outputs": [],
   "source": []
  }
 ],
 "metadata": {
  "kernelspec": {
   "display_name": "Python 3",
   "language": "python",
   "name": "python3"
  },
  "language_info": {
   "codemirror_mode": {
    "name": "ipython",
    "version": 3
   },
   "file_extension": ".py",
   "mimetype": "text/x-python",
   "name": "python",
   "nbconvert_exporter": "python",
   "pygments_lexer": "ipython3",
   "version": "3.11.6"
  }
 },
 "nbformat": 4,
 "nbformat_minor": 5
}
