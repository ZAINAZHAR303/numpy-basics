{
 "cells": [
  {
   "cell_type": "code",
   "execution_count": 14,
   "metadata": {},
   "outputs": [
    {
     "name": "stdout",
     "output_type": "stream",
     "text": [
      "Accuracy: 0.9473684210526315\n"
     ]
    }
   ],
   "source": [
    "from sklearn.model_selection import train_test_split\n",
    "from sklearn.linear_model import LogisticRegression\n",
    "from sklearn.metrics import accuracy_score\n",
    "from sklearn.datasets import load_breast_cancer\n",
    "import pandas as pd\n",
    "X, y = load_breast_cancer(return_X_y=True)\n",
    "# Split data\n",
    "X_train, X_test, y_train, y_test = train_test_split(X, y, test_size=0.2)\n",
    "\n",
    "# Train model\n",
    "# model = LogisticRegression(max_iter=100)\n",
    "model = LogisticRegression(max_iter=10000)  # Increase max_iter to allow more iterations\n",
    "model.fit(X_train, y_train)\n",
    "\n",
    "# Make predictions\n",
    "predictions = model.predict(X_test)\n",
    "accuracy = accuracy_score(y_test, predictions)\n",
    "print(f\"Accuracy: {accuracy}\")\n",
    "# X.columns()"
   ]
  },
  {
   "cell_type": "code",
   "execution_count": 17,
   "metadata": {},
   "outputs": [
    {
     "name": "stdout",
     "output_type": "stream",
     "text": [
      "LogisticRegression:\n",
      "Mean accuracy: 0.9543233082706767\n",
      "Standard deviation: 0.023770661464399972\n",
      "DecisionTreeClassifier:\n",
      "Mean accuracy: 0.8998746867167918\n",
      "Standard deviation: 0.035894983232968525\n",
      "RandomForestClassifier:\n",
      "Mean accuracy: 0.9578947368421054\n",
      "Standard deviation: 0.038596491228070184\n",
      "GaussianNB:\n",
      "Mean accuracy: 0.9367794486215537\n",
      "Standard deviation: 0.02844425208918023\n"
     ]
    }
   ],
   "source": [
    "## cross validation\n",
    "\n",
    "from sklearn.model_selection import cross_val_score\n",
    "from sklearn.tree import DecisionTreeClassifier\n",
    "from sklearn.ensemble import RandomForestClassifier\n",
    "from sklearn.naive_bayes import GaussianNB\n",
    "\n",
    "# Perform 10-fold cross validation\n",
    "models = [\n",
    "    LogisticRegression(max_iter=10000),\n",
    "    DecisionTreeClassifier(),\n",
    "    RandomForestClassifier(),\n",
    "    GaussianNB()\n",
    "]\n",
    "\n",
    "for model in models:\n",
    "    scores = cross_val_score(model, X, y, cv=10)\n",
    "    print(f\"{model.__class__.__name__}:\")\n",
    "    print(f\"Mean accuracy: {scores.mean()}\")\n",
    "    print(f\"Standard deviation: {scores.std()}\")"
   ]
  },
  {
   "cell_type": "code",
   "execution_count": 22,
   "metadata": {},
   "outputs": [
    {
     "name": "stdout",
     "output_type": "stream",
     "text": [
      "GaussianNB:\n",
      "Mean Squared Error: 0.05263157894736842\n",
      "Root Mean Squared Error: 0.22941573387056177\n",
      "Mean Absolute Error: 0.05263157894736842\n",
      "SVC:\n",
      "Mean Squared Error: 0.07894736842105263\n",
      "Root Mean Squared Error: 0.28097574347450816\n",
      "Mean Absolute Error: 0.07894736842105263\n",
      "LinearRegression:\n",
      "Mean Squared Error: 0.05612311846046891\n",
      "Root Mean Squared Error: 0.23690318372801347\n",
      "Mean Absolute Error: 0.18970758519058303\n"
     ]
    }
   ],
   "source": [
    "from sklearn.tree import DecisionTreeClassifier\n",
    "from sklearn.ensemble import RandomForestClassifier\n",
    "from sklearn.naive_bayes import GaussianNB\n",
    "from sklearn.svm import SVC\n",
    "from sklearn.neighbors import KNeighborsClassifier\n",
    "from sklearn.linear_model import LinearRegression,LogisticRegression\n",
    "from sklearn.metrics import accuracy_score,mean_squared_error,mean_absolute_error\n",
    "from sklearn.datasets import load_breast_cancer\n",
    "import numpy as np\n",
    "\n",
    "\n",
    "x,y = load_breast_cancer(return_X_y=True)\n",
    "\n",
    "xtrain,xtest,ytrain,ytest = train_test_split(x,y,test_size=0.2)\n",
    "\n",
    "# Perform 10-fold cross validation\n",
    "regressors = [\n",
    "    \n",
    "    GaussianNB(),\n",
    "    SVC(),\n",
    "    # KNeighborsClassifier(),\n",
    "    LinearRegression()\n",
    "\n",
    "]\n",
    "\n",
    "for regressor in regressors:\n",
    "    regressor.fit(xtrain,ytrain)\n",
    "    ypred = regressor.predict(xtest)\n",
    "    print(f\"{regressor.__class__.__name__}:\")\n",
    "    print(f\"Mean Squared Error: {mean_squared_error(ytest, ypred)}\")\n",
    "    print(f\"Root Mean Squared Error: {np.sqrt(mean_squared_error(ytest, ypred))}\")\n",
    "    print(f\"Mean Absolute Error: {mean_absolute_error(ytest, ypred)}\")\n",
    "\n"
   ]
  },
  {
   "cell_type": "code",
   "execution_count": 1,
   "metadata": {},
   "outputs": [
    {
     "name": "stdout",
     "output_type": "stream",
     "text": [
      "GaussianNB:\n",
      "Mean Squared Error: 0.07017543859649122\n"
     ]
    },
    {
     "ename": "NameError",
     "evalue": "name 'np' is not defined",
     "output_type": "error",
     "traceback": [
      "\u001b[31m---------------------------------------------------------------------------\u001b[39m",
      "\u001b[31mNameError\u001b[39m                                 Traceback (most recent call last)",
      "\u001b[36mCell\u001b[39m\u001b[36m \u001b[39m\u001b[32mIn[1]\u001b[39m\u001b[32m, line 31\u001b[39m\n\u001b[32m     29\u001b[39m \u001b[38;5;28mprint\u001b[39m(\u001b[33mf\u001b[39m\u001b[33m\"\u001b[39m\u001b[38;5;132;01m{\u001b[39;00mregressor.\u001b[34m__class__\u001b[39m.\u001b[34m__name__\u001b[39m\u001b[38;5;132;01m}\u001b[39;00m\u001b[33m:\u001b[39m\u001b[33m\"\u001b[39m)\n\u001b[32m     30\u001b[39m \u001b[38;5;28mprint\u001b[39m(\u001b[33mf\u001b[39m\u001b[33m\"\u001b[39m\u001b[33mMean Squared Error: \u001b[39m\u001b[38;5;132;01m{\u001b[39;00mmean_squared_error(ytest,\u001b[38;5;250m \u001b[39mypred)\u001b[38;5;132;01m}\u001b[39;00m\u001b[33m\"\u001b[39m)\n\u001b[32m---> \u001b[39m\u001b[32m31\u001b[39m \u001b[38;5;28mprint\u001b[39m(\u001b[33mf\u001b[39m\u001b[33m\"\u001b[39m\u001b[33mRoot Mean Squared Error: \u001b[39m\u001b[38;5;132;01m{\u001b[39;00m\u001b[43mnp\u001b[49m.sqrt(mean_squared_error(ytest,\u001b[38;5;250m \u001b[39mypred))\u001b[38;5;132;01m}\u001b[39;00m\u001b[33m\"\u001b[39m)\n\u001b[32m     32\u001b[39m \u001b[38;5;28mprint\u001b[39m(\u001b[33mf\u001b[39m\u001b[33m\"\u001b[39m\u001b[33mMean Absolute Error: \u001b[39m\u001b[38;5;132;01m{\u001b[39;00mmean_absolute_error(ytest,\u001b[38;5;250m \u001b[39mypred)\u001b[38;5;132;01m}\u001b[39;00m\u001b[33m\"\u001b[39m)\n",
      "\u001b[31mNameError\u001b[39m: name 'np' is not defined"
     ]
    }
   ],
   "source": [
    "### sklearn imports & regressor accuracy\n",
    "\n",
    "from sklearn.feature_selection import SelectFdr,SelectFpr,SelectKBest,SelectPercentile,SelectFwe,GenericUnivariateSelect,mutual_info_classif,chi2\n",
    "from sklearn.model_selection import train_test_split\n",
    "from sklearn.datasets import load_breast_cancer,load_diabetes,load_iris\n",
    "from sklearn.tree import DecisionTreeClassifier\n",
    "from sklearn.ensemble import RandomForestClassifier\n",
    "from sklearn.naive_bayes import GaussianNB\n",
    "from sklearn.svm import SVC\n",
    "from sklearn.neighbors import KNeighborsClassifier\n",
    "from sklearn.linear_model import LinearRegression,LogisticRegression\n",
    "from sklearn.metrics import accuracy_score,mean_squared_error,mean_absolute_error\n",
    "\n",
    "x,y = load_breast_cancer(return_X_y=True)\n",
    "\n",
    "xtrain,xtest,ytrain,ytest = train_test_split(x,y,test_size=0.2)\n",
    "\n",
    "# Perform 10-fold cross validation\n",
    "regressors = [\n",
    "    \n",
    "    GaussianNB(),\n",
    "    SVC(),\n",
    "    # KNeighborsClassifier(),\n",
    "    LinearRegression()\n",
    "\n",
    "]\n",
    "\n",
    "for regressor in regressors:\n",
    "    regressor.fit(xtrain,ytrain)\n",
    "    ypred = regressor.predict(xtest)\n",
    "    print(f\"{regressor.__class__.__name__}:\")\n",
    "    print(f\"Mean Squared Error: {mean_squared_error(ytest, ypred)}\")\n",
    "    print(f\"Root Mean Squared Error: {np.sqrt(mean_squared_error(ytest, ypred))}\")\n",
    "    print(f\"Mean Absolute Error: {mean_absolute_error(ytest, ypred)}\")"
   ]
  },
  {
   "cell_type": "code",
   "execution_count": null,
   "metadata": {},
   "outputs": [],
   "source": []
  },
  {
   "cell_type": "code",
   "execution_count": null,
   "metadata": {},
   "outputs": [],
   "source": []
  }
 ],
 "metadata": {
  "kernelspec": {
   "display_name": "Python 3",
   "language": "python",
   "name": "python3"
  },
  "language_info": {
   "codemirror_mode": {
    "name": "ipython",
    "version": 3
   },
   "file_extension": ".py",
   "mimetype": "text/x-python",
   "name": "python",
   "nbconvert_exporter": "python",
   "pygments_lexer": "ipython3",
   "version": "3.11.6"
  }
 },
 "nbformat": 4,
 "nbformat_minor": 2
}
