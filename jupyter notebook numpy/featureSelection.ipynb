{
 "cells": [
  {
   "cell_type": "code",
   "execution_count": null,
   "id": "c349c015",
   "metadata": {},
   "outputs": [],
   "source": [
    "from sklearn.feature_selection import chi2,SelectFdr,SelectFpr,SelectKBest,SelectPercentile,SelectFwe,mutual_info_classif,GenericUnivariateSelect\n",
    "from sklearn.datasets import load_iris,load_breast_cancer\n",
    "\n"
   ]
  },
  {
   "cell_type": "code",
   "execution_count": 12,
   "id": "4a57e64d",
   "metadata": {},
   "outputs": [
    {
     "name": "stdout",
     "output_type": "stream",
     "text": [
      "(569, 30)\n"
     ]
    }
   ],
   "source": [
    "from sklearn.datasets import load_iris,load_breast_cancer\n",
    "x,y = load_breast_cancer(return_X_y=True)\n",
    "\n",
    "print(x.shape)\n",
    "# result = x.feature_names\n",
    "\n",
    "# print(result)"
   ]
  },
  {
   "cell_type": "code",
   "execution_count": 24,
   "id": "44fb4763",
   "metadata": {},
   "outputs": [
    {
     "name": "stdout",
     "output_type": "stream",
     "text": [
      "original data (569, 30)\n",
      "kBest chi2 (569, 15)\n",
      "percentile chi2 (569, 3)\n",
      "fdr chi2 (569, 17)\n",
      "fpr chi2 (569, 17)\n",
      "fwe chi2 (569, 16)\n"
     ]
    }
   ],
   "source": [
    "from sklearn.feature_selection import SelectKBest,chi2,SelectPercentile,SelectFdr,SelectFpr,SelectFwe\n",
    "k_chi = SelectKBest(chi2,k=15).fit_transform(x,y)\n",
    "p_chi = SelectPercentile(chi2,percentile=10).fit_transform(x,y)\n",
    "fdr_chi = SelectFdr(chi2,alpha=0.05).fit_transform(x,y)\n",
    "fpr_chi = SelectFpr(chi2,alpha=0.05).fit_transform(x,y)\n",
    "fwe_chi = SelectFwe(chi2,alpha=0.05).fit_transform(x,y)\n",
    "\n",
    "\n",
    "print(\"original data\",x.shape)\n",
    "\n",
    "print(\"kBest chi2\",k_chi.shape)\n",
    "print(\"percentile chi2\",p_chi.shape)\n",
    "print(\"fdr chi2\",fdr_chi.shape)\n",
    "print(\"fpr chi2\",fpr_chi.shape)\n",
    "print(\"fwe chi2\",fwe_chi.shape)\n",
    "\n",
    "\n",
    "\n",
    "\n",
    "\n"
   ]
  },
  {
   "cell_type": "code",
   "execution_count": 35,
   "id": "cd7cb0af",
   "metadata": {},
   "outputs": [
    {
     "name": "stdout",
     "output_type": "stream",
     "text": [
      "original data (569, 30)\n",
      "kBest mutual (569, 15)\n",
      "percentile mutual (569, 3)\n"
     ]
    }
   ],
   "source": [
    "from sklearn.feature_selection import SelectKBest,chi2,SelectPercentile,SelectFdr,SelectFpr,SelectFwe,mutual_info_classif,f_classif\n",
    "\n",
    "k_mutual = SelectKBest(mutual_info_classif,k=15).fit_transform(x,y)\n",
    "p_mutual = SelectPercentile(mutual_info_classif,percentile=10).fit_transform(x,y)\n",
    "# Selector = SelectFdr(mutual_info_classif,alpha=0.05).fit(x,y)\n",
    "# fdr_mutual = Selector.transform(x)\n",
    "# fpr_mutual = SelectFpr(mutual_info_classif,alpha=0.05).fit_transform(x,y)\n",
    "# fwe_mutual = SelectFwe(mutual_info_classif,alpha=0.05).fit_transform(x,y)\n",
    "\n",
    "\n",
    "print(\"original data\",x.shape)\n",
    "# print(k_mutual.get_support())\n",
    "print(\"kBest mutual\",k_mutual.shape)\n",
    "print(\"percentile mutual\",p_mutual.shape)\n",
    "# print(\"fdr mutual\",fdr_mutual.shape)\n",
    "# print(\"fpr mutual\",fpr_mutual.shape)\n",
    "# print(\"fwe mutual\",fwe_mutual.shape)\n",
    "\n",
    "\n"
   ]
  },
  {
   "cell_type": "markdown",
   "id": "ca21133e",
   "metadata": {},
   "source": [
    "### Gpt mutual info classif"
   ]
  },
  {
   "cell_type": "markdown",
   "id": "ac030038",
   "metadata": {},
   "source": [
    "The error occurs because SelectFdr, SelectFpr, and SelectFwe require p-values for feature selection, but mutual_info_classif only returns scores, not p-values.\n",
    "\n",
    "Why It Doesn't Work Directly\n",
    "mutual_info_classif → Outputs dependency scores (higher = better).\n",
    "\n",
    "SelectFdr/Fpr/Fwe → Require p-values (lower = better)."
   ]
  },
  {
   "cell_type": "code",
   "execution_count": 36,
   "id": "5b711721",
   "metadata": {},
   "outputs": [
    {
     "name": "stdout",
     "output_type": "stream",
     "text": [
      "FDR selected: (569, 30)\n",
      "FPR selected: (569, 30)\n",
      "FWE selected: (569, 30)\n"
     ]
    }
   ],
   "source": [
    "import numpy as np\n",
    "from sklearn.feature_selection import mutual_info_classif, SelectFdr, SelectFpr, SelectFwe\n",
    "\n",
    "# Compute mutual info scores\n",
    "mi_scores = mutual_info_classif(x, y)\n",
    "\n",
    "# Simulate p-values (since mutual_info_classif doesn't provide them)\n",
    "normalized_scores = mi_scores / np.max(mi_scores)  # Scale to [0,1]\n",
    "p_values = 1 - normalized_scores  # Lower score → Higher p-value\n",
    "\n",
    "# Define a dummy function that returns (p_values, dummy_scores)\n",
    "def mock_pval_func(x, y):\n",
    "    return (p_values, np.zeros_like(p_values))\n",
    "\n",
    "# Now apply FDR/FPR/FWE selection\n",
    "selector_fdr = SelectFdr(mock_pval_func, alpha=0.05).fit(x, y)\n",
    "selector_fpr = SelectFpr(mock_pval_func, alpha=0.05).fit(x, y)\n",
    "selector_fwe = SelectFwe(mock_pval_func, alpha=0.05).fit(x, y)\n",
    "\n",
    "# Get selected features\n",
    "X_fdr = selector_fdr.transform(x)\n",
    "X_fpr = selector_fpr.transform(x)\n",
    "X_fwe = selector_fwe.transform(x)\n",
    "\n",
    "print(\"FDR selected:\", X_fdr.shape)\n",
    "print(\"FPR selected:\", X_fpr.shape)\n",
    "print(\"FWE selected:\", X_fwe.shape)"
   ]
  },
  {
   "cell_type": "markdown",
   "id": "beb3a46f",
   "metadata": {},
   "source": [
    "### Generic univarite selection"
   ]
  },
  {
   "cell_type": "markdown",
   "id": "2db49ffc",
   "metadata": {},
   "source": [
    "selected is the transformed NumPy array (output of .transform()), which does not have .get_support().\n",
    "\n",
    "Instead, you should call .get_support() on the fitted selector object (generic_univariate)."
   ]
  },
  {
   "cell_type": "code",
   "execution_count": 51,
   "id": "25ee6218",
   "metadata": {},
   "outputs": [
    {
     "name": "stdout",
     "output_type": "stream",
     "text": [
      "['mean radius' 'mean perimeter' 'mean area' 'mean compactness'\n",
      " 'mean concavity' 'mean concave points' 'radius error' 'perimeter error'\n",
      " 'area error' 'worst radius' 'worst perimeter' 'worst area'\n",
      " 'worst compactness' 'worst concavity' 'worst concave points']\n",
      "(569, 30)\n"
     ]
    }
   ],
   "source": [
    "from sklearn.feature_selection import GenericUnivariateSelect\n",
    "generic_univariate = GenericUnivariateSelect(mutual_info_classif,mode=\"percentile\",param=50).fit(x,y)\n",
    "selected = generic_univariate.transform(x)\n",
    "# print(generic_univariate.shape)\n",
    "inputs = load_breast_cancer()\n",
    "feature =inputs.feature_names\n",
    "print(feature[generic_univariate.get_support()])\n",
    "print(x.shape)\n"
   ]
  },
  {
   "cell_type": "code",
   "execution_count": null,
   "id": "dd2c0bed",
   "metadata": {},
   "outputs": [],
   "source": []
  },
  {
   "cell_type": "code",
   "execution_count": null,
   "id": "81c69e88",
   "metadata": {},
   "outputs": [],
   "source": []
  },
  {
   "cell_type": "code",
   "execution_count": null,
   "id": "31e6db80",
   "metadata": {},
   "outputs": [],
   "source": []
  },
  {
   "cell_type": "code",
   "execution_count": null,
   "id": "18cfce01",
   "metadata": {},
   "outputs": [],
   "source": []
  },
  {
   "cell_type": "code",
   "execution_count": null,
   "id": "fe6dfecc",
   "metadata": {},
   "outputs": [],
   "source": []
  },
  {
   "cell_type": "code",
   "execution_count": null,
   "id": "042c0883",
   "metadata": {},
   "outputs": [],
   "source": []
  },
  {
   "cell_type": "code",
   "execution_count": null,
   "id": "2438a03e",
   "metadata": {},
   "outputs": [],
   "source": []
  },
  {
   "cell_type": "code",
   "execution_count": null,
   "id": "144f8df9",
   "metadata": {},
   "outputs": [],
   "source": []
  },
  {
   "cell_type": "code",
   "execution_count": 4,
   "id": "6b58ac9b",
   "metadata": {},
   "outputs": [
    {
     "ename": "AttributeError",
     "evalue": "'numpy.ndarray' object has no attribute 'feature_names'",
     "output_type": "error",
     "traceback": [
      "\u001b[31m---------------------------------------------------------------------------\u001b[39m",
      "\u001b[31mAttributeError\u001b[39m                            Traceback (most recent call last)",
      "\u001b[36mCell\u001b[39m\u001b[36m \u001b[39m\u001b[32mIn[4]\u001b[39m\u001b[32m, line 1\u001b[39m\n\u001b[32m----> \u001b[39m\u001b[32m1\u001b[39m \u001b[38;5;28mprint\u001b[39m(\u001b[43mx\u001b[49m\u001b[43m.\u001b[49m\u001b[43mfeature_names\u001b[49m)\n",
      "\u001b[31mAttributeError\u001b[39m: 'numpy.ndarray' object has no attribute 'feature_names'"
     ]
    }
   ],
   "source": []
  },
  {
   "cell_type": "code",
   "execution_count": null,
   "id": "ec20f115",
   "metadata": {},
   "outputs": [],
   "source": []
  },
  {
   "cell_type": "code",
   "execution_count": null,
   "id": "3b384a4b",
   "metadata": {},
   "outputs": [],
   "source": []
  },
  {
   "cell_type": "code",
   "execution_count": null,
   "id": "6f2927f4",
   "metadata": {},
   "outputs": [],
   "source": []
  }
 ],
 "metadata": {
  "kernelspec": {
   "display_name": "Python 3",
   "language": "python",
   "name": "python3"
  },
  "language_info": {
   "codemirror_mode": {
    "name": "ipython",
    "version": 3
   },
   "file_extension": ".py",
   "mimetype": "text/x-python",
   "name": "python",
   "nbconvert_exporter": "python",
   "pygments_lexer": "ipython3",
   "version": "3.11.6"
  }
 },
 "nbformat": 4,
 "nbformat_minor": 5
}
